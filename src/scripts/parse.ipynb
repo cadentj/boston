{
 "cells": [
  {
   "cell_type": "code",
   "execution_count": 2,
   "metadata": {},
   "outputs": [],
   "source": [
    "import csv\n",
    "import json"
   ]
  },
  {
   "cell_type": "code",
   "execution_count": 3,
   "metadata": {},
   "outputs": [],
   "source": [
    "filename = '/home/caden/Programming/boston/src/scripts/data_new.csv'\n",
    "nodes = []\n",
    "\n",
    "with open(filename, newline='', encoding='utf-8') as csvfile:\n",
    "    reader = csv.reader(csvfile)\n",
    "    next(reader, None)  # Skip header row\n",
    "    for row in reader:\n",
    "        node = {\n",
    "            'id': row[0],\n",
    "            'name': row[1],\n",
    "            'type': row[2],\n",
    "            'desc': row[3],\n",
    "            'links': []\n",
    "        }\n",
    "        for link_data in row[4:]:\n",
    "            if link_data:\n",
    "                link_parts = link_data.split(' ')\n",
    "                link = {\n",
    "                    'link_desc': ' '.join(link_parts[:-1]),\n",
    "                    'id': link_parts[-1].strip('\"\"')\n",
    "                }\n",
    "                node['links'].append(link)\n",
    "        nodes.append(node)\n",
    "\n"
   ]
  },
  {
   "cell_type": "code",
   "execution_count": 5,
   "metadata": {},
   "outputs": [
    {
     "data": {
      "text/plain": [
       "{'id': '001',\n",
       " 'name': 'homeowner',\n",
       " 'type': 'person',\n",
       " 'desc': 'This is you!',\n",
       " 'links': [{'link_desc': 'hires', 'id': '003'}]}"
      ]
     },
     "execution_count": 5,
     "metadata": {},
     "output_type": "execute_result"
    }
   ],
   "source": [
    "nodes[0]"
   ]
  },
  {
   "cell_type": "code",
   "execution_count": 9,
   "metadata": {},
   "outputs": [
    {
     "name": "stdout",
     "output_type": "stream",
     "text": [
      "22\n",
      "{'nodes': [{'id': 1, 'name': 'homeowner', 'type': 'person', 'desc': 'This is you!'}, {'id': 2, 'name': 'homebuyer', 'type': 'person', 'desc': 'This is you!'}, {'id': 3, 'name': 'realtor', 'type': 'person', 'desc': 'A person who represents sellers or buyers of real estate or real property.'}, {'id': 4, 'name': 'bank', 'type': 'organization', 'desc': 'Provides loans to individuals and businesses for property purchases.'}, {'id': 5, 'name': 'property mangagement groups', 'type': 'organization', 'desc': 'Responsible for the management of the service charge and the delivery of management and maintenance services at the property.'}, {'id': 6, 'name': 'landlord', 'type': 'person', 'desc': 'The owner of a house, apartment, condominium, land, or real estate which is rented or leased to an individual or business.'}, {'id': 7, 'name': 'tennant', 'type': 'person', 'desc': 'A person who occupies land or property rented from a landlord.'}, {'id': 8, 'name': 'universities', 'type': 'organization', 'desc': 'Institutions of higher education.'}, {'id': 10, 'name': 'developers', 'type': 'organization', 'desc': 'Organizations or individuals involved in the planning, construction, and marketing of real estate projects.'}, {'id': 11, 'name': 'property assessment office', 'type': 'organization', 'desc': 'An organization responsible for determining the value of properties for taxation purposes.'}, {'id': 12, 'name': 'multiple listing service', 'type': 'database', 'desc': 'database created by cooperating real estate brokers to share data about houses on the market at any given time'}, {'id': 13, 'name': 'boston home center', 'type': 'organization', 'desc': 'Governmental organization dedicated to helping Boston residents buy, improve, and keep their homes.'}, {'id': 14, 'name': 'home price', 'type': 'variable', 'desc': 'The average housing price in the area. '}, {'id': 17, 'name': 'mass housing', 'type': 'organization', 'desc': 'An independent agency that provides financing to create and preserve affordable housing in Massachusetts.'}, {'id': 18, 'name': 'housing stock', 'type': 'variable', 'desc': 'Amount of housing available for purchase'}, {'id': 20, 'name': 'mortgage rate', 'type': 'variable', 'desc': 'Interest rate homebuyer pays to finance the purchase of the house'}, {'id': 22, 'name': 'real estate databases', 'type': 'database', 'desc': 'Databases like Zillow, which homebuyers can use to search for houses on the market'}, {'id': 23, 'name': 'construction costs', 'type': 'variable', 'desc': 'The total expense incurred in the building of new structures, including costs of materials, labor, and other related expenses.'}, {'id': 24, 'name': 'interest rate', 'type': 'variable', 'desc': 'The cost of borrowing money, expressed as a percentage of the loan amount, typically charged on an annual basis.'}, {'id': 25, 'name': 'FHA', 'type': 'organization', 'desc': 'A U.S. government agency that provides mortgage insurance on loans made by approved lenders, aiming to facilitate homeownership.'}, {'id': 26, 'name': 'neighborhood demand', 'type': 'variable', 'desc': \"The level of interest and desire of individuals or families to live in a particular neighborhood, often reflecting the area's attractiveness and amenities.\"}, {'id': 27, 'name': 'displacement', 'type': 'variable', 'desc': 'When existing homeowners are forced to move from their residences due to increased demand in their neighborhoods.'}], 'links': [{'link_desc': 'hires', 'source': 1, 'target': 3}, {'link_desc': 'contacts', 'source': 2, 'target': 3}, {'link_desc': 'applied for mortgage from', 'source': 2, 'target': 4}, {'link_desc': 'searches', 'source': 2, 'target': 22}, {'link_desc': 'finds homes for', 'source': 3, 'target': 1}, {'link_desc': 'searches', 'source': 3, 'target': 12}, {'link_desc': 'finds homes for', 'source': 3, 'target': 2}, {'link_desc': 'accepts/rejects', 'source': 4, 'target': 2}, {'link_desc': 'sets', 'source': 4, 'target': 20}, {'link_desc': 'buy from', 'source': 5, 'target': 18}, {'link_desc': 'assists', 'source': 5, 'target': 6}, {'link_desc': 'charges', 'source': 6, 'target': 7}, {'link_desc': 'decreases', 'source': 6, 'target': 18}, {'link_desc': 'decreases', 'source': 7, 'target': 18}, {'link_desc': 'increases', 'source': 8, 'target': 7}, {'link_desc': 'increases', 'source': 8, 'target': 26}, {'link_desc': 'increases', 'source': 10, 'target': 18}, {'link_desc': 'assesses value of', 'source': 11, 'target': 18}, {'link_desc': 'database for', 'source': 12, 'target': 3}, {'link_desc': 'helps', 'source': 13, 'target': 2}, {'link_desc': 'helps', 'source': 13, 'target': 1}, {'link_desc': 'set by', 'source': 14, 'target': 1}, {'link_desc': 'affected by', 'source': 14, 'target': 18}, {'link_desc': 'helps', 'source': 17, 'target': 2}, {'link_desc': 'decreases', 'source': 18, 'target': 19}, {'link_desc': 'listed in', 'source': 18, 'target': 12}, {'link_desc': 'listed in', 'source': 18, 'target': 22}, {'link_desc': 'set by', 'source': 20, 'target': 4}, {'link_desc': 'affected by', 'source': 20, 'target': 24}, {'link_desc': 'database for', 'source': 22, 'target': 2}, {'link_desc': 'info also listed in', 'source': 22, 'target': 12}, {'link_desc': 'decreases', 'source': 23, 'target': 18}, {'link_desc': 'increases', 'source': 24, 'target': 23}, {'link_desc': 'provides loans for', 'source': 25, 'target': 2}, {'link_desc': 'decreases', 'source': 26, 'target': 27}, {'link_desc': 'direct relationship to', 'source': 27, 'target': 26}]}\n"
     ]
    }
   ],
   "source": [
    "\n",
    "final = {\n",
    "    \"nodes\":[],\n",
    "    \"links\":[]\n",
    "\n",
    "}\n",
    "\n",
    "for node in nodes:\n",
    "    if len(node['links']) == 0:\n",
    "        continue\n",
    "    n = {\n",
    "        \"id\" : int(node[\"id\"]),\n",
    "        \"name\" : node[\"name\"],\n",
    "        \"type\" : node[\"type\"],\n",
    "        \"desc\" : node[\"desc\"]\n",
    "    }\n",
    "    final[\"nodes\"].append(n)\n",
    "    for l in node[\"links\"]:\n",
    "        lk = {\n",
    "            \"link_desc\" : l[\"link_desc\"],\n",
    "            \"source\" : int(node[\"id\"]),\n",
    "            \"target\" : int(l[\"id\"])\n",
    "        }\n",
    "        final[\"links\"].append(lk)\n",
    "\n",
    "print(len(final['nodes']))\n",
    "print(final)\n",
    "# {\n",
    "#         \"id\": \"027\",\n",
    "#         \"name\": \"displacement\",\n",
    "#         \"type\": \"variable\",\n",
    "#         \"desc\": \"When existing homeowners are forced to move from their residences due to increased demand in their neighborhoods.\",\n",
    "#         \"links\": [\n",
    "#             {\n",
    "#                 \"link_desc\": \"direct relationship to\",\n",
    "#                 \"id\": \"026\"\n",
    "#             }\n",
    "#         ]\n",
    "#     },\n",
    "\n"
   ]
  },
  {
   "cell_type": "code",
   "execution_count": 11,
   "metadata": {},
   "outputs": [],
   "source": [
    "file_name = 'data.json'\n",
    "\n",
    "# Write to JSON file\n",
    "with open(file_name, 'w') as f:\n",
    "    json.dump(final, f, indent=4)  # indent=4 for pretty printing"
   ]
  }
 ],
 "metadata": {
  "kernelspec": {
   "display_name": "qwang",
   "language": "python",
   "name": "python3"
  },
  "language_info": {
   "codemirror_mode": {
    "name": "ipython",
    "version": 3
   },
   "file_extension": ".py",
   "mimetype": "text/x-python",
   "name": "python",
   "nbconvert_exporter": "python",
   "pygments_lexer": "ipython3",
   "version": "3.11.5"
  },
  "orig_nbformat": 4
 },
 "nbformat": 4,
 "nbformat_minor": 2
}
